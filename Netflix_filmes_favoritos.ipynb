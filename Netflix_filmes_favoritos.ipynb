{
  "nbformat": 4,
  "nbformat_minor": 0,
  "metadata": {
    "colab": {
      "provenance": [],
      "authorship_tag": "ABX9TyMSLgDNmQGOjfPa+VNw6Nmx",
      "include_colab_link": true
    },
    "kernelspec": {
      "name": "python3",
      "display_name": "Python 3"
    },
    "language_info": {
      "name": "python"
    }
  },
  "cells": [
    {
      "cell_type": "markdown",
      "metadata": {
        "id": "view-in-github",
        "colab_type": "text"
      },
      "source": [
        "<a href=\"https://colab.research.google.com/github/PedroHGualter/Netflix---Filmes-favoritos/blob/main/Netflix_filmes_favoritos.ipynb\" target=\"_parent\"><img src=\"https://colab.research.google.com/assets/colab-badge.svg\" alt=\"Open In Colab\"/></a>"
      ]
    },
    {
      "cell_type": "markdown",
      "source": [
        "NETFLIX - FILMES FAVORITOS\n",
        " - Pedro Henrique Gualter Do Nascimento\n",
        " - Data Analyst and Data Scientist"
      ],
      "metadata": {
        "id": "zI0U_zXImAqb"
      }
    },
    {
      "cell_type": "code",
      "source": [
        "def obter_numero_inteiro(mensagem):\n",
        "    while True:\n",
        "        try:\n",
        "            valor = input(mensagem)\n",
        "            if not valor.isdigit():\n",
        "                raise ValueError(\"Por favor, digite um número válido para a quantidade de exibições.\")\n",
        "            valor = int(valor)\n",
        "            return valor\n",
        "        except ValueError as e:\n",
        "            print(e)\n",
        "\n",
        "colecao_principal = []\n",
        "\n",
        "print('NETFLIX: FILMES FAVORITOS')\n",
        "usuario = input('Qual o seu nome?: ')\n",
        "while True:\n",
        "    nome = input(\"Digite o nome do filme (ou digite 'sair' para sair): \")\n",
        "    if nome.lower() == 'sair':\n",
        "        break\n",
        "    genero = input(\"Digite o gênero do filme: \")\n",
        "    exibicoes = obter_numero_inteiro(\"Digite a quantidade de exibições: \")\n",
        "    colecao_principal.append({\"nome\": nome, \"genero\": genero, \"exibicoes\": exibicoes})\n",
        "\n",
        "print(f\"\\nColeção dos filmes favoritos de {usuario}:\")\n",
        "for filme in colecao_principal:\n",
        "    print(f'{filme[\"nome\"]} - {filme[\"genero\"]} - {filme[\"exibicoes\"]} exibições')\n",
        "\n",
        "aventura = [filme for filme in colecao_principal if filme[\"genero\"].lower() == \"aventura\"]\n",
        "print(f\"\\nFilmes do gênero Aventura:\")\n",
        "for filme in aventura:\n",
        "    print(f'{filme[\"nome\"]} - {filme[\"exibicoes\"]} exibições')\n",
        "\n",
        "print(f\"Quantidade de filmes do gênero Aventura: {len(aventura)}\")\n",
        "print(\"\\nCadastro de filmes finalizado.\")\n"
      ],
      "metadata": {
        "colab": {
          "base_uri": "https://localhost:8080/"
        },
        "id": "9pb0mqxbnVeS",
        "outputId": "553c215c-6dd7-4b40-8878-d362ee6f2067"
      },
      "execution_count": 7,
      "outputs": [
        {
          "output_type": "stream",
          "name": "stdout",
          "text": [
            "NETFLIX: FILMES FAVORITOS\n",
            "Qual o seu nome?: Pedro\n",
            "Digite o nome do filme (ou digite 'sair' para sair): Mr Bean\n",
            "Digite o gênero do filme: Comédia\n",
            "Digite a quantidade de exibições: 9\n",
            "Digite o nome do filme (ou digite 'sair' para sair): Os vingadores\n",
            "Digite o gênero do filme: Heróis\n",
            "Digite a quantidade de exibições: 13\n",
            "Digite o nome do filme (ou digite 'sair' para sair): Interestelar\n",
            "Digite o gênero do filme: Aventura\n",
            "Digite a quantidade de exibições: 3\n",
            "Digite o nome do filme (ou digite 'sair' para sair): Avatar\n",
            "Digite o gênero do filme: Aventura\n",
            "Digite a quantidade de exibições: 5\n",
            "Digite o nome do filme (ou digite 'sair' para sair): Bob esponja\n",
            "Digite o gênero do filme: Infantil\n",
            "Digite a quantidade de exibições: 32\n",
            "Digite o nome do filme (ou digite 'sair' para sair): sair\n",
            "\n",
            "Coleção dos filmes favoritos de Pedro:\n",
            "Mr Bean - Comédia - 9 exibições\n",
            "Os vingadores - Heróis - 13 exibições\n",
            "Interestelar - Aventura - 3 exibições\n",
            "Avatar - Aventura - 5 exibições\n",
            "Bob esponja - Infantil - 32 exibições\n",
            "\n",
            "Filmes do gênero Aventura:\n",
            "Interestelar - 3 exibições\n",
            "Avatar - 5 exibições\n",
            "Quantidade de filmes do gênero Aventura: 2\n",
            "\n",
            "Cadastro de filmes finalizado.\n"
          ]
        }
      ]
    }
  ]
}